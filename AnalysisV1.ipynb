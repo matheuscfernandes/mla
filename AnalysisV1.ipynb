{
 "cells": [
  {
   "cell_type": "code",
   "execution_count": 2,
   "metadata": {},
   "outputs": [],
   "source": [
    "import matplotlib.pyplot as plt\n",
    "from cycler import cycler\n",
    "import pandas as pd\n",
    "import matplotlib.pyplot as plt\n",
    "from jupyterthemes import jtplot\n",
    "from os import listdir\n",
    "import matplotlib.patheffects as pe\n",
    "import numpy as np\n",
    "%matplotlib inline"
   ]
  },
  {
   "cell_type": "code",
   "execution_count": 3,
   "metadata": {},
   "outputs": [],
   "source": [
    "# import jtplot submodule from jupyterthemes\n",
    "from jupyterthemes import jtplot\n",
    "\n",
    "# currently installed theme will be used to\n",
    "jtplot.style('matt')\n",
    "AllFontSize=18\n",
    "\n",
    "colors=['#4878CF', '#6ACC65', '#D65F5F', '#C4AD66','#77BEDB', '#B47CC7','gray','#98b5f4','#fd97ee','#a30063']\n",
    "colors_new=cycler(color=['#4878CF', '#6ACC65', '#D65F5F', '#C4AD66','#77BEDB', '#B47CC7','gray','#98b5f4','#fd97ee','#a30063'])\n",
    "\n",
    "plt.rcParams['axes.prop_cycle'] = colors_new\n",
    "plt.rcParams['figure.figsize'] = (6, 5)\n",
    "plt.rcParams['lines.linewidth'] = 4\n",
    "plt.rcParams['axes.labelsize'] = AllFontSize\n",
    "plt.rcParams['axes.linewidth']='0.8'\n",
    "plt.rcParams['axes.grid']=True\n",
    "plt.rcParams['axes.titlesize'] = AllFontSize\n",
    "plt.rcParams['grid.linestyle'] = ':'\n",
    "plt.rcParams['grid.linewidth'] = 0.5\n",
    "plt.rcParams['grid.alpha'] = 1\n",
    "plt.rcParams['legend.fontsize'] = AllFontSize\n",
    "plt.rcParams['legend.frameon'] = False \n",
    "plt.rcParams['xtick.labelsize'] = AllFontSize\n",
    "plt.rcParams['ytick.labelsize'] = AllFontSize\n",
    "plt.rcParams['xtick.top']=True\n",
    "plt.rcParams['ytick.right']=False\n",
    "plt.rcParams['xtick.minor.visible']=True\n",
    "plt.rcParams['ytick.minor.visible']=True\n",
    "plt.rcParams['xtick.minor.size']=2\n",
    "plt.rcParams['ytick.minor.size']=2\n",
    "plt.rcParams['savefig.bbox']='tight'\n",
    "plt.rcParams['font.sans-serif'] = \"CMU Sans Serif\"\n",
    "plt.rcParams['font.family'] = \"sans-serif\"\n",
    "plt.rcParams['mathtext.fontset'] = 'cm' "
   ]
  },
  {
   "cell_type": "code",
   "execution_count": 10,
   "metadata": {},
   "outputs": [
    {
     "name": "stdout",
     "output_type": "stream",
     "text": [
      "Successfully Imported File: apple_a.csv\n",
      "Successfully Imported File: apple_b.csv\n",
      "Successfully Imported File: idk_a.csv\n",
      "Successfully Imported File: idk_b.csv\n",
      "Successfully Imported File: k1p1_a.csv\n",
      "Successfully Imported File: k1p1_b.csv\n",
      "Successfully Imported File: k1p5_a.csv\n",
      "Successfully Imported File: k1p5_b.csv\n",
      "Successfully Imported File: k1_a.csv\n",
      "Successfully Imported File: k1_b.csv\n",
      "Successfully Imported File: k2_a.csv\n",
      "Successfully Imported File: k2_b.csv\n",
      "Successfully Imported File: nothing_a.csv\n",
      "Successfully Imported File: nothing_b.csv\n",
      "Successfully Imported File: WoodBall_a.csv\n",
      "Successfully Imported File: WoodBall_b.csv\n"
     ]
    }
   ],
   "source": [
    "def ImportData(directory):\n",
    "    Folder=directory\n",
    "    FileNames=[Name for Name in listdir(Folder) if not Name[0] == '.']\n",
    "    AllData={}\n",
    "    for Name in FileNames:\n",
    "        print(\"Successfully Imported File:\",Name)\n",
    "        RunName=Name.split('.')[0].split('_')[0]\n",
    "        RunType=Name.split('.')[0].split('_')[1]\n",
    "        if RunName=='b'\n",
    "        AllData[RunName]=pd.read_csv(Folder+Name)\n",
    "                \n",
    "    return AllData\n",
    "\n",
    "Data=ImportData('2019-05-06_FirstTrialData/')"
   ]
  },
  {
   "cell_type": "code",
   "execution_count": 11,
   "metadata": {},
   "outputs": [
    {
     "data": {
      "text/plain": [
       "dict_keys(['apple_a', 'apple_b', 'idk_a', 'idk_b', 'k1p1_a', 'k1p1_b', 'k1p5_a', 'k1p5_b', 'k1_a', 'k1_b', 'k2_a', 'k2_b', 'nothing_a', 'nothing_b', 'WoodBall_a', 'WoodBall_b'])"
      ]
     },
     "execution_count": 11,
     "metadata": {},
     "output_type": "execute_result"
    }
   ],
   "source": [
    "Data.keys()"
   ]
  },
  {
   "cell_type": "code",
   "execution_count": 12,
   "metadata": {},
   "outputs": [
    {
     "data": {
      "text/html": [
       "<div>\n",
       "<style>\n",
       "    .dataframe thead tr:only-child th {\n",
       "        text-align: right;\n",
       "    }\n",
       "\n",
       "    .dataframe thead th {\n",
       "        text-align: left;\n",
       "    }\n",
       "\n",
       "    .dataframe tbody tr th {\n",
       "        vertical-align: top;\n",
       "    }\n",
       "</style>\n",
       "<table border=\"1\" class=\"dataframe\">\n",
       "  <thead>\n",
       "    <tr style=\"text-align: right;\">\n",
       "      <th></th>\n",
       "      <th>0.010874</th>\n",
       "      <th>1.204123</th>\n",
       "      <th>1.348661</th>\n",
       "      <th>0.817917</th>\n",
       "      <th>0.115437</th>\n",
       "      <th>0.118940</th>\n",
       "      <th>0.122542</th>\n",
       "      <th>0.115503</th>\n",
       "      <th>0.122367</th>\n",
       "    </tr>\n",
       "  </thead>\n",
       "  <tbody>\n",
       "    <tr>\n",
       "      <th>0</th>\n",
       "      <td>0.046395</td>\n",
       "      <td>-0.120220</td>\n",
       "      <td>0.566550</td>\n",
       "      <td>-0.042634</td>\n",
       "      <td>0.021389</td>\n",
       "      <td>0.021093</td>\n",
       "      <td>0.020561</td>\n",
       "      <td>0.019350</td>\n",
       "      <td>0.029111</td>\n",
       "    </tr>\n",
       "    <tr>\n",
       "      <th>1</th>\n",
       "      <td>0.088884</td>\n",
       "      <td>-0.120616</td>\n",
       "      <td>0.569955</td>\n",
       "      <td>-0.038649</td>\n",
       "      <td>0.021259</td>\n",
       "      <td>0.028901</td>\n",
       "      <td>0.020367</td>\n",
       "      <td>0.019149</td>\n",
       "      <td>0.023658</td>\n",
       "    </tr>\n",
       "    <tr>\n",
       "      <th>2</th>\n",
       "      <td>0.123545</td>\n",
       "      <td>-0.120673</td>\n",
       "      <td>0.568770</td>\n",
       "      <td>-0.039664</td>\n",
       "      <td>0.021238</td>\n",
       "      <td>0.028843</td>\n",
       "      <td>0.019926</td>\n",
       "      <td>0.019434</td>\n",
       "      <td>0.024201</td>\n",
       "    </tr>\n",
       "    <tr>\n",
       "      <th>3</th>\n",
       "      <td>0.158312</td>\n",
       "      <td>-0.120684</td>\n",
       "      <td>0.568070</td>\n",
       "      <td>-0.042813</td>\n",
       "      <td>0.012773</td>\n",
       "      <td>0.024413</td>\n",
       "      <td>0.020110</td>\n",
       "      <td>0.019602</td>\n",
       "      <td>0.025272</td>\n",
       "    </tr>\n",
       "    <tr>\n",
       "      <th>4</th>\n",
       "      <td>0.192910</td>\n",
       "      <td>-0.120798</td>\n",
       "      <td>0.567634</td>\n",
       "      <td>-0.039582</td>\n",
       "      <td>0.020984</td>\n",
       "      <td>0.022482</td>\n",
       "      <td>0.020371</td>\n",
       "      <td>0.019298</td>\n",
       "      <td>0.025000</td>\n",
       "    </tr>\n",
       "  </tbody>\n",
       "</table>\n",
       "</div>"
      ],
      "text/plain": [
       "   0.010874  1.204123  1.348661  0.817917  0.115437  0.118940  0.122542  \\\n",
       "0  0.046395 -0.120220  0.566550 -0.042634  0.021389  0.021093  0.020561   \n",
       "1  0.088884 -0.120616  0.569955 -0.038649  0.021259  0.028901  0.020367   \n",
       "2  0.123545 -0.120673  0.568770 -0.039664  0.021238  0.028843  0.019926   \n",
       "3  0.158312 -0.120684  0.568070 -0.042813  0.012773  0.024413  0.020110   \n",
       "4  0.192910 -0.120798  0.567634 -0.039582  0.020984  0.022482  0.020371   \n",
       "\n",
       "   0.115503  0.122367  \n",
       "0  0.019350  0.029111  \n",
       "1  0.019149  0.023658  \n",
       "2  0.019434  0.024201  \n",
       "3  0.019602  0.025272  \n",
       "4  0.019298  0.025000  "
      ]
     },
     "execution_count": 12,
     "metadata": {},
     "output_type": "execute_result"
    }
   ],
   "source": [
    "Data['apple_a'].head()"
   ]
  },
  {
   "cell_type": "code",
   "execution_count": null,
   "metadata": {},
   "outputs": [],
   "source": []
  }
 ],
 "metadata": {
  "kernelspec": {
   "display_name": "Python [default]",
   "language": "python",
   "name": "python3"
  },
  "language_info": {
   "codemirror_mode": {
    "name": "ipython",
    "version": 3
   },
   "file_extension": ".py",
   "mimetype": "text/x-python",
   "name": "python",
   "nbconvert_exporter": "python",
   "pygments_lexer": "ipython3",
   "version": "3.6.7"
  }
 },
 "nbformat": 4,
 "nbformat_minor": 2
}
